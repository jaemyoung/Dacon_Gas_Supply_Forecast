{
 "cells": [
  {
   "cell_type": "code",
   "execution_count": 1,
   "id": "014837e1-0892-44e4-b3b5-311996ce627a",
   "metadata": {},
   "outputs": [],
   "source": [
    "import pandas as pd"
   ]
  },
  {
   "cell_type": "markdown",
   "id": "0e6360af-796f-4254-9682-af7226160280",
   "metadata": {},
   "source": [
    "### temperature"
   ]
  },
  {
   "cell_type": "code",
   "execution_count": 2,
   "id": "bfc178e7-67d4-42d1-b8a0-8608d0a551c1",
   "metadata": {},
   "outputs": [],
   "source": [
    "temp_2013 = pd.read_csv('data/temp_2013.csv', encoding='cp949')\n",
    "temp_2014 = pd.read_csv('data/temp_2014.csv', encoding='cp949')\n",
    "temp_2015 = pd.read_csv('data/temp_2015.csv', encoding='cp949')\n",
    "temp_2016 = pd.read_csv('data/temp_2016.csv', encoding='cp949')\n",
    "temp_2017 = pd.read_csv('data/temp_2017.csv', encoding='cp949')\n",
    "temp_2018 = pd.read_csv('data/temp_2018.csv', encoding='cp949')"
   ]
  },
  {
   "cell_type": "code",
   "execution_count": 3,
   "id": "ad53b592-b873-4e44-8a79-2e676d659c36",
   "metadata": {},
   "outputs": [],
   "source": [
    "names = ['loc', 'location', 'time', 'temp']\n",
    "\n",
    "temp_2013.columns = names\n",
    "temp_2014.columns = names\n",
    "temp_2015.columns = names\n",
    "temp_2016.columns = names\n",
    "temp_2017.columns = names\n",
    "temp_2018.columns = names\n",
    "\n",
    "temp_2013 = temp_2013.loc[:, ['time', 'temp']]\n",
    "temp_2014 = temp_2014.loc[:, ['time', 'temp']]\n",
    "temp_2015 = temp_2015.loc[:, ['time', 'temp']]\n",
    "temp_2016 = temp_2016.loc[:, ['time', 'temp']]\n",
    "temp_2017 = temp_2017.loc[:, ['time', 'temp']]\n",
    "temp_2018 = temp_2018.loc[:, ['time', 'temp']]"
   ]
  },
  {
   "cell_type": "code",
   "execution_count": 4,
   "id": "0a1858db-3dd9-402a-a435-b62cc703fbcc",
   "metadata": {},
   "outputs": [],
   "source": [
    "temp = pd.concat(objs=[temp_2013.groupby(by='time').mean(), temp_2014.groupby(by='time').mean(), temp_2015.groupby(by='time').mean(), \\\n",
    "                      temp_2016.groupby(by='time').mean(), temp_2017.groupby(by='time').mean(), temp_2018.groupby(by='time').mean()], axis=0)"
   ]
  },
  {
   "cell_type": "code",
   "execution_count": 5,
   "id": "c81a5e49-93e0-46e0-9947-5f44d4524436",
   "metadata": {},
   "outputs": [],
   "source": [
    "temp.to_csv('data/avg_temp.csv')"
   ]
  },
  {
   "cell_type": "markdown",
   "id": "6e21d94f-d85c-4fa7-af80-116198cb5517",
   "metadata": {},
   "source": [
    "### humidity"
   ]
  },
  {
   "cell_type": "code",
   "execution_count": 6,
   "id": "8573eede-9774-449a-aca0-1ce6219311f3",
   "metadata": {},
   "outputs": [],
   "source": [
    "humidity_2013 = pd.read_csv('data/humidity_2013.csv', encoding='cp949')\n",
    "humidity_2014 = pd.read_csv('data/humidity_2014.csv', encoding='cp949')\n",
    "humidity_2015 = pd.read_csv('data/humidity_2015.csv', encoding='cp949')\n",
    "humidity_2016 = pd.read_csv('data/humidity_2016.csv', encoding='cp949')\n",
    "humidity_2017 = pd.read_csv('data/humidity_2017.csv', encoding='cp949')\n",
    "humidity_2018 = pd.read_csv('data/humidity_2018.csv', encoding='cp949')"
   ]
  },
  {
   "cell_type": "code",
   "execution_count": 7,
   "id": "e2aae206-7a66-434d-9920-93f6cf8fb261",
   "metadata": {},
   "outputs": [],
   "source": [
    "names = ['loc', 'location', 'time', 'humidity']\n",
    "\n",
    "humidity_2013.columns = names\n",
    "humidity_2014.columns = names\n",
    "humidity_2015.columns = names\n",
    "humidity_2016.columns = names\n",
    "humidity_2017.columns = names\n",
    "humidity_2018.columns = names\n",
    "\n",
    "humidity_2013 = humidity_2013.loc[:, ['time', 'humidity']]\n",
    "humidity_2014 = humidity_2014.loc[:, ['time', 'humidity']]\n",
    "humidity_2015 = humidity_2015.loc[:, ['time', 'humidity']]\n",
    "humidity_2016 = humidity_2016.loc[:, ['time', 'humidity']]\n",
    "humidity_2017 = humidity_2017.loc[:, ['time', 'humidity']]\n",
    "humidity_2018 = humidity_2018.loc[:, ['time', 'humidity']]"
   ]
  },
  {
   "cell_type": "code",
   "execution_count": 8,
   "id": "bcc56ba7-ff6b-4b1f-9220-df597bf21a4b",
   "metadata": {},
   "outputs": [],
   "source": [
    "humidity = pd.concat(objs=[humidity_2013.groupby(by='time').mean(), humidity_2014.groupby(by='time').mean(), humidity_2015.groupby(by='time').mean(), \\\n",
    "                       humidity_2016.groupby(by='time').mean(), humidity_2017.groupby(by='time').mean(), humidity_2018.groupby(by='time').mean()], axis=0)"
   ]
  },
  {
   "cell_type": "code",
   "execution_count": 9,
   "id": "5edb66c4-f398-48be-bf39-1603b84f8bb3",
   "metadata": {},
   "outputs": [],
   "source": [
    "humidity.to_csv('data/avg_humidity.csv')"
   ]
  }
 ],
 "metadata": {
  "kernelspec": {
   "display_name": "Python 3",
   "language": "python",
   "name": "python3"
  },
  "language_info": {
   "codemirror_mode": {
    "name": "ipython",
    "version": 3
   },
   "file_extension": ".py",
   "mimetype": "text/x-python",
   "name": "python",
   "nbconvert_exporter": "python",
   "pygments_lexer": "ipython3",
   "version": "3.9.4"
  }
 },
 "nbformat": 4,
 "nbformat_minor": 5
}
