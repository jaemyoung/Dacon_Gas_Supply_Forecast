{
 "cells": [
  {
   "cell_type": "code",
   "execution_count": 1,
   "id": "014837e1-0892-44e4-b3b5-311996ce627a",
   "metadata": {},
   "outputs": [],
   "source": [
    "import pandas as pd"
   ]
  },
  {
   "cell_type": "markdown",
   "id": "0e6360af-796f-4254-9682-af7226160280",
   "metadata": {},
   "source": [
    "### temperature"
   ]
  },
  {
   "cell_type": "code",
   "execution_count": 2,
   "id": "bfc178e7-67d4-42d1-b8a0-8608d0a551c1",
   "metadata": {},
   "outputs": [],
   "source": [
    "temp_2013 = pd.read_csv('data/temp_2013.csv', encoding='cp949')\n",
    "temp_2014 = pd.read_csv('data/temp_2014.csv', encoding='cp949')\n",
    "temp_2015 = pd.read_csv('data/temp_2015.csv', encoding='cp949')\n",
    "temp_2016 = pd.read_csv('data/temp_2016.csv', encoding='cp949')\n",
    "temp_2017 = pd.read_csv('data/temp_2017.csv', encoding='cp949')\n",
    "temp_2018 = pd.read_csv('data/temp_2018.csv', encoding='cp949')"
   ]
  },
  {
   "cell_type": "code",
   "execution_count": 3,
   "id": "ad53b592-b873-4e44-8a79-2e676d659c36",
   "metadata": {},
   "outputs": [],
   "source": [
    "names = ['loc', 'location', 'time', 'temp']\n",
    "\n",
    "temp_2013.columns = names\n",
    "temp_2014.columns = names\n",
    "temp_2015.columns = names\n",
    "temp_2016.columns = names\n",
    "temp_2017.columns = names\n",
    "temp_2018.columns = names\n",
    "\n",
    "temp_2013 = temp_2013.loc[:, ['time', 'temp']]\n",
    "temp_2014 = temp_2014.loc[:, ['time', 'temp']]\n",
    "temp_2015 = temp_2015.loc[:, ['time', 'temp']]\n",
    "temp_2016 = temp_2016.loc[:, ['time', 'temp']]\n",
    "temp_2017 = temp_2017.loc[:, ['time', 'temp']]\n",
    "temp_2018 = temp_2018.loc[:, ['time', 'temp']]"
   ]
  },
  {
   "cell_type": "code",
   "execution_count": 4,
   "id": "0a1858db-3dd9-402a-a435-b62cc703fbcc",
   "metadata": {},
   "outputs": [],
   "source": [
    "temp = pd.concat(objs=[temp_2013.groupby(by='time').mean(), temp_2014.groupby(by='time').mean(), temp_2015.groupby(by='time').mean(), \\\n",
    "                      temp_2016.groupby(by='time').mean(), temp_2017.groupby(by='time').mean(), temp_2018.groupby(by='time').mean()], axis=0)"
   ]
  },
  {
   "cell_type": "code",
   "execution_count": 5,
   "id": "c81a5e49-93e0-46e0-9947-5f44d4524436",
   "metadata": {},
   "outputs": [],
   "source": [
    "temp.to_csv('data/avg_temp.csv')"
   ]
  },
  {
   "cell_type": "markdown",
   "id": "6e21d94f-d85c-4fa7-af80-116198cb5517",
   "metadata": {},
   "source": [
    "### humidity"
   ]
  },
  {
   "cell_type": "code",
   "execution_count": 6,
   "id": "8573eede-9774-449a-aca0-1ce6219311f3",
   "metadata": {},
   "outputs": [],
   "source": [
    "humidity_2013 = pd.read_csv('data/humidity_2013.csv', encoding='cp949')\n",
    "humidity_2014 = pd.read_csv('data/humidity_2014.csv', encoding='cp949')\n",
    "humidity_2015 = pd.read_csv('data/humidity_2015.csv', encoding='cp949')\n",
    "humidity_2016 = pd.read_csv('data/humidity_2016.csv', encoding='cp949')\n",
    "humidity_2017 = pd.read_csv('data/humidity_2017.csv', encoding='cp949')\n",
    "humidity_2018 = pd.read_csv('data/humidity_2018.csv', encoding='cp949')"
   ]
  },
  {
   "cell_type": "code",
   "execution_count": 7,
   "id": "e2aae206-7a66-434d-9920-93f6cf8fb261",
   "metadata": {},
   "outputs": [],
   "source": [
    "names = ['loc', 'location', 'time', 'humidity']\n",
    "\n",
    "humidity_2013.columns = names\n",
    "humidity_2014.columns = names\n",
    "humidity_2015.columns = names\n",
    "humidity_2016.columns = names\n",
    "humidity_2017.columns = names\n",
    "humidity_2018.columns = names\n",
    "\n",
    "humidity_2013 = humidity_2013.loc[:, ['time', 'humidity']]\n",
    "humidity_2014 = humidity_2014.loc[:, ['time', 'humidity']]\n",
    "humidity_2015 = humidity_2015.loc[:, ['time', 'humidity']]\n",
    "humidity_2016 = humidity_2016.loc[:, ['time', 'humidity']]\n",
    "humidity_2017 = humidity_2017.loc[:, ['time', 'humidity']]\n",
    "humidity_2018 = humidity_2018.loc[:, ['time', 'humidity']]"
   ]
  },
  {
   "cell_type": "code",
   "execution_count": 8,
   "id": "bcc56ba7-ff6b-4b1f-9220-df597bf21a4b",
   "metadata": {},
   "outputs": [],
   "source": [
    "humidity = pd.concat(objs=[humidity_2013.groupby(by='time').mean(), humidity_2014.groupby(by='time').mean(), humidity_2015.groupby(by='time').mean(), \\\n",
    "                       humidity_2016.groupby(by='time').mean(), humidity_2017.groupby(by='time').mean(), humidity_2018.groupby(by='time').mean()], axis=0)"
   ]
  },
  {
   "cell_type": "code",
   "execution_count": 9,
   "id": "5edb66c4-f398-48be-bf39-1603b84f8bb3",
   "metadata": {},
   "outputs": [],
   "source": [
    "humidity.to_csv('data/avg_humidity.csv')"
   ]
  },
  {
   "cell_type": "markdown",
   "id": "e184d2c4-60dc-4a8a-a9a9-e9cf12fb059c",
   "metadata": {},
   "source": [
    "## merge"
   ]
  },
  {
   "cell_type": "code",
   "execution_count": 10,
   "id": "6aa1a815-21e5-42cf-beb9-fb9dabc11c68",
   "metadata": {},
   "outputs": [],
   "source": [
    "data = pd.read_csv('data/merge_total_211206.csv', encoding='cp949', index_col=0)"
   ]
  },
  {
   "cell_type": "code",
   "execution_count": 11,
   "id": "1e83a365-c322-4479-be45-c0399e94790f",
   "metadata": {},
   "outputs": [
    {
     "data": {
      "text/html": [
       "<div>\n",
       "<style scoped>\n",
       "    .dataframe tbody tr th:only-of-type {\n",
       "        vertical-align: middle;\n",
       "    }\n",
       "\n",
       "    .dataframe tbody tr th {\n",
       "        vertical-align: top;\n",
       "    }\n",
       "\n",
       "    .dataframe thead th {\n",
       "        text-align: right;\n",
       "    }\n",
       "</style>\n",
       "<table border=\"1\" class=\"dataframe\">\n",
       "  <thead>\n",
       "    <tr style=\"text-align: right;\">\n",
       "      <th></th>\n",
       "      <th>연월일</th>\n",
       "      <th>시간</th>\n",
       "      <th>구분</th>\n",
       "      <th>공급량</th>\n",
       "      <th>year</th>\n",
       "      <th>month</th>\n",
       "      <th>day</th>\n",
       "      <th>weekday</th>\n",
       "      <th>특수일_x</th>\n",
       "      <th>특수일_y</th>\n",
       "      <th>추정치</th>\n",
       "      <th>temp</th>\n",
       "    </tr>\n",
       "  </thead>\n",
       "  <tbody>\n",
       "    <tr>\n",
       "      <th>0</th>\n",
       "      <td>2013-01-01</td>\n",
       "      <td>0</td>\n",
       "      <td>0</td>\n",
       "      <td>2497.129</td>\n",
       "      <td>2013</td>\n",
       "      <td>1</td>\n",
       "      <td>1</td>\n",
       "      <td>1</td>\n",
       "      <td>근무일</td>\n",
       "      <td>신정</td>\n",
       "      <td>-0.173</td>\n",
       "      <td>-7.080460</td>\n",
       "    </tr>\n",
       "    <tr>\n",
       "      <th>1</th>\n",
       "      <td>2013-01-01</td>\n",
       "      <td>1</td>\n",
       "      <td>0</td>\n",
       "      <td>2363.265</td>\n",
       "      <td>2013</td>\n",
       "      <td>1</td>\n",
       "      <td>1</td>\n",
       "      <td>1</td>\n",
       "      <td>근무일</td>\n",
       "      <td>신정</td>\n",
       "      <td>-0.173</td>\n",
       "      <td>-7.491954</td>\n",
       "    </tr>\n",
       "    <tr>\n",
       "      <th>2</th>\n",
       "      <td>2013-01-01</td>\n",
       "      <td>2</td>\n",
       "      <td>0</td>\n",
       "      <td>2258.505</td>\n",
       "      <td>2013</td>\n",
       "      <td>1</td>\n",
       "      <td>1</td>\n",
       "      <td>1</td>\n",
       "      <td>근무일</td>\n",
       "      <td>신정</td>\n",
       "      <td>-0.173</td>\n",
       "      <td>-7.732184</td>\n",
       "    </tr>\n",
       "    <tr>\n",
       "      <th>3</th>\n",
       "      <td>2013-01-01</td>\n",
       "      <td>3</td>\n",
       "      <td>0</td>\n",
       "      <td>2243.969</td>\n",
       "      <td>2013</td>\n",
       "      <td>1</td>\n",
       "      <td>1</td>\n",
       "      <td>1</td>\n",
       "      <td>근무일</td>\n",
       "      <td>신정</td>\n",
       "      <td>-0.173</td>\n",
       "      <td>-7.840230</td>\n",
       "    </tr>\n",
       "    <tr>\n",
       "      <th>4</th>\n",
       "      <td>2013-01-01</td>\n",
       "      <td>4</td>\n",
       "      <td>0</td>\n",
       "      <td>2344.105</td>\n",
       "      <td>2013</td>\n",
       "      <td>1</td>\n",
       "      <td>1</td>\n",
       "      <td>1</td>\n",
       "      <td>근무일</td>\n",
       "      <td>신정</td>\n",
       "      <td>-0.173</td>\n",
       "      <td>-8.059770</td>\n",
       "    </tr>\n",
       "  </tbody>\n",
       "</table>\n",
       "</div>"
      ],
      "text/plain": [
       "          연월일  시간  구분       공급량  year  month  day  weekday 특수일_x 특수일_y    추정치  \\\n",
       "0  2013-01-01   0   0  2497.129  2013      1    1        1   근무일    신정 -0.173   \n",
       "1  2013-01-01   1   0  2363.265  2013      1    1        1   근무일    신정 -0.173   \n",
       "2  2013-01-01   2   0  2258.505  2013      1    1        1   근무일    신정 -0.173   \n",
       "3  2013-01-01   3   0  2243.969  2013      1    1        1   근무일    신정 -0.173   \n",
       "4  2013-01-01   4   0  2344.105  2013      1    1        1   근무일    신정 -0.173   \n",
       "\n",
       "       temp  \n",
       "0 -7.080460  \n",
       "1 -7.491954  \n",
       "2 -7.732184  \n",
       "3 -7.840230  \n",
       "4 -8.059770  "
      ]
     },
     "execution_count": 11,
     "metadata": {},
     "output_type": "execute_result"
    }
   ],
   "source": [
    "data.head()"
   ]
  },
  {
   "cell_type": "code",
   "execution_count": 12,
   "id": "eb82984d-be3a-4aa6-8d2b-e74a90972cf4",
   "metadata": {},
   "outputs": [],
   "source": [
    "humidity = humidity.reset_index()\n",
    "humidity['time'] = pd.to_datetime(humidity['time'])"
   ]
  },
  {
   "cell_type": "code",
   "execution_count": 13,
   "id": "e6968e9e-2ebe-4ebb-b99c-4a4cc4f3185d",
   "metadata": {},
   "outputs": [],
   "source": [
    "humidity['year'] = humidity['time'].dt.year\n",
    "humidity['month'] = humidity['time'].dt.month\n",
    "humidity['day'] = humidity['time'].dt.day\n",
    "humidity['시간'] = humidity['time'].dt.hour"
   ]
  },
  {
   "cell_type": "code",
   "execution_count": 14,
   "id": "ca85236a-e776-4032-8142-85fdee0cef79",
   "metadata": {},
   "outputs": [],
   "source": [
    "merge = data.merge(right=humidity.drop(labels=['time'], axis=1), how='inner', on=['year', 'month', 'day', '시간'])"
   ]
  },
  {
   "cell_type": "code",
   "execution_count": 15,
   "id": "d577e3da-b593-4e5b-99c3-a9fe010f44bf",
   "metadata": {},
   "outputs": [
    {
     "data": {
      "text/html": [
       "<div>\n",
       "<style scoped>\n",
       "    .dataframe tbody tr th:only-of-type {\n",
       "        vertical-align: middle;\n",
       "    }\n",
       "\n",
       "    .dataframe tbody tr th {\n",
       "        vertical-align: top;\n",
       "    }\n",
       "\n",
       "    .dataframe thead th {\n",
       "        text-align: right;\n",
       "    }\n",
       "</style>\n",
       "<table border=\"1\" class=\"dataframe\">\n",
       "  <thead>\n",
       "    <tr style=\"text-align: right;\">\n",
       "      <th></th>\n",
       "      <th>연월일</th>\n",
       "      <th>시간</th>\n",
       "      <th>구분</th>\n",
       "      <th>공급량</th>\n",
       "      <th>year</th>\n",
       "      <th>month</th>\n",
       "      <th>day</th>\n",
       "      <th>weekday</th>\n",
       "      <th>특수일_x</th>\n",
       "      <th>특수일_y</th>\n",
       "      <th>추정치</th>\n",
       "      <th>temp</th>\n",
       "      <th>humidity</th>\n",
       "    </tr>\n",
       "  </thead>\n",
       "  <tbody>\n",
       "    <tr>\n",
       "      <th>0</th>\n",
       "      <td>2013-01-01</td>\n",
       "      <td>0</td>\n",
       "      <td>0</td>\n",
       "      <td>2497.129</td>\n",
       "      <td>2013</td>\n",
       "      <td>1</td>\n",
       "      <td>1</td>\n",
       "      <td>1</td>\n",
       "      <td>근무일</td>\n",
       "      <td>신정</td>\n",
       "      <td>-0.173</td>\n",
       "      <td>-7.08046</td>\n",
       "      <td>76.988506</td>\n",
       "    </tr>\n",
       "    <tr>\n",
       "      <th>1</th>\n",
       "      <td>2013-01-01</td>\n",
       "      <td>0</td>\n",
       "      <td>1</td>\n",
       "      <td>2169.093</td>\n",
       "      <td>2013</td>\n",
       "      <td>1</td>\n",
       "      <td>1</td>\n",
       "      <td>1</td>\n",
       "      <td>근무일</td>\n",
       "      <td>신정</td>\n",
       "      <td>-0.173</td>\n",
       "      <td>-7.08046</td>\n",
       "      <td>76.988506</td>\n",
       "    </tr>\n",
       "    <tr>\n",
       "      <th>2</th>\n",
       "      <td>2013-01-01</td>\n",
       "      <td>0</td>\n",
       "      <td>2</td>\n",
       "      <td>226.178</td>\n",
       "      <td>2013</td>\n",
       "      <td>1</td>\n",
       "      <td>1</td>\n",
       "      <td>1</td>\n",
       "      <td>근무일</td>\n",
       "      <td>신정</td>\n",
       "      <td>-0.173</td>\n",
       "      <td>-7.08046</td>\n",
       "      <td>76.988506</td>\n",
       "    </tr>\n",
       "    <tr>\n",
       "      <th>3</th>\n",
       "      <td>2013-01-01</td>\n",
       "      <td>0</td>\n",
       "      <td>3</td>\n",
       "      <td>1434.516</td>\n",
       "      <td>2013</td>\n",
       "      <td>1</td>\n",
       "      <td>1</td>\n",
       "      <td>1</td>\n",
       "      <td>근무일</td>\n",
       "      <td>신정</td>\n",
       "      <td>-0.173</td>\n",
       "      <td>-7.08046</td>\n",
       "      <td>76.988506</td>\n",
       "    </tr>\n",
       "    <tr>\n",
       "      <th>4</th>\n",
       "      <td>2013-01-01</td>\n",
       "      <td>0</td>\n",
       "      <td>4</td>\n",
       "      <td>3272.837</td>\n",
       "      <td>2013</td>\n",
       "      <td>1</td>\n",
       "      <td>1</td>\n",
       "      <td>1</td>\n",
       "      <td>근무일</td>\n",
       "      <td>신정</td>\n",
       "      <td>-0.173</td>\n",
       "      <td>-7.08046</td>\n",
       "      <td>76.988506</td>\n",
       "    </tr>\n",
       "  </tbody>\n",
       "</table>\n",
       "</div>"
      ],
      "text/plain": [
       "          연월일  시간  구분       공급량  year  month  day  weekday 특수일_x 특수일_y    추정치  \\\n",
       "0  2013-01-01   0   0  2497.129  2013      1    1        1   근무일    신정 -0.173   \n",
       "1  2013-01-01   0   1  2169.093  2013      1    1        1   근무일    신정 -0.173   \n",
       "2  2013-01-01   0   2   226.178  2013      1    1        1   근무일    신정 -0.173   \n",
       "3  2013-01-01   0   3  1434.516  2013      1    1        1   근무일    신정 -0.173   \n",
       "4  2013-01-01   0   4  3272.837  2013      1    1        1   근무일    신정 -0.173   \n",
       "\n",
       "      temp   humidity  \n",
       "0 -7.08046  76.988506  \n",
       "1 -7.08046  76.988506  \n",
       "2 -7.08046  76.988506  \n",
       "3 -7.08046  76.988506  \n",
       "4 -7.08046  76.988506  "
      ]
     },
     "execution_count": 15,
     "metadata": {},
     "output_type": "execute_result"
    }
   ],
   "source": [
    "merge.head()"
   ]
  },
  {
   "cell_type": "code",
   "execution_count": 16,
   "id": "55d6203d-82a5-46b8-9657-675e115c6d98",
   "metadata": {},
   "outputs": [],
   "source": [
    "merge.to_csv('data/merge_total_211209.csv')"
   ]
  }
 ],
 "metadata": {
  "kernelspec": {
   "display_name": "Python 3",
   "language": "python",
   "name": "python3"
  },
  "language_info": {
   "codemirror_mode": {
    "name": "ipython",
    "version": 3
   },
   "file_extension": ".py",
   "mimetype": "text/x-python",
   "name": "python",
   "nbconvert_exporter": "python",
   "pygments_lexer": "ipython3",
   "version": "3.9.4"
  }
 },
 "nbformat": 4,
 "nbformat_minor": 5
}
