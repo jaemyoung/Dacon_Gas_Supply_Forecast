{
 "cells": [
  {
   "cell_type": "markdown",
   "id": "9e5e704f-0af4-4db1-8d0a-519155fb106e",
   "metadata": {},
   "source": [
    "# Libraries"
   ]
  },
  {
   "cell_type": "code",
   "execution_count": 1,
   "id": "6d4574f5-3f93-43fc-8509-e7bec528cf68",
   "metadata": {},
   "outputs": [],
   "source": [
    "import itertools\n",
    "import numpy as np\n",
    "import pandas as pd\n",
    "\n",
    "from matplotlib import pyplot as plt\n",
    "from statsmodels import api as sm\n",
    "from statsmodels.tsa.stattools import adfuller\n",
    "from statsmodels.tsa.statespace.sarimax import SARIMAX\n",
    "from statsmodels.tsa.seasonal import seasonal_decompose\n",
    "\n",
    "from sklearn.linear_model import LinearRegression"
   ]
  },
  {
   "cell_type": "markdown",
   "id": "a81fa9db-6587-468c-b853-dc5cd1f2481f",
   "metadata": {},
   "source": [
    "# Functions"
   ]
  },
  {
   "cell_type": "code",
   "execution_count": 2,
   "id": "4e677f18-46f5-432e-9e0b-710229e9ca6c",
   "metadata": {},
   "outputs": [],
   "source": [
    "def nmae(true_df, pred_df):\n",
    "    target_idx = true_df.iloc[:,0]\n",
    "    pred_df = pred_df[pred_df.iloc[:,0].isin(target_idx)]\n",
    "    pred_df = pred_df.sort_values(by=[pred_df.columns[0]], ascending=[True])\n",
    "    true_df = true_df.sort_values(by=[true_df.columns[0]], ascending=[True])\n",
    "    \n",
    "    true = true_df.iloc[:,1].to_numpy()\n",
    "    pred = pred_df.iloc[:,1].to_numpy()\n",
    "    \n",
    "    score = np.mean((np.abs(true-pred))/true)\n",
    "    \n",
    "    return score"
   ]
  },
  {
   "cell_type": "markdown",
   "id": "166b4499-be1c-44c3-b086-ae0572259c67",
   "metadata": {},
   "source": [
    "# Modeling"
   ]
  },
  {
   "cell_type": "code",
   "execution_count": 13,
   "id": "6f2bbdc3-22f5-4402-b280-882ba27d8a3f",
   "metadata": {},
   "outputs": [],
   "source": [
    "data = pd.read_csv('data/merge_total_211206.csv', encoding='cp949', index_col=0)\n",
    "data = data.drop(labels=['특수일_x', '특수일_y'], axis=1)"
   ]
  },
  {
   "cell_type": "code",
   "execution_count": 14,
   "id": "a22fb0fb-70a6-430a-bdc9-b56881057a55",
   "metadata": {},
   "outputs": [
    {
     "data": {
      "text/html": [
       "<div>\n",
       "<style scoped>\n",
       "    .dataframe tbody tr th:only-of-type {\n",
       "        vertical-align: middle;\n",
       "    }\n",
       "\n",
       "    .dataframe tbody tr th {\n",
       "        vertical-align: top;\n",
       "    }\n",
       "\n",
       "    .dataframe thead th {\n",
       "        text-align: right;\n",
       "    }\n",
       "</style>\n",
       "<table border=\"1\" class=\"dataframe\">\n",
       "  <thead>\n",
       "    <tr style=\"text-align: right;\">\n",
       "      <th></th>\n",
       "      <th>연월일</th>\n",
       "      <th>시간</th>\n",
       "      <th>구분</th>\n",
       "      <th>공급량</th>\n",
       "      <th>year</th>\n",
       "      <th>month</th>\n",
       "      <th>day</th>\n",
       "      <th>weekday</th>\n",
       "      <th>추정치</th>\n",
       "      <th>temp</th>\n",
       "    </tr>\n",
       "  </thead>\n",
       "  <tbody>\n",
       "    <tr>\n",
       "      <th>0</th>\n",
       "      <td>2013-01-01</td>\n",
       "      <td>0</td>\n",
       "      <td>0</td>\n",
       "      <td>2497.129</td>\n",
       "      <td>2013</td>\n",
       "      <td>1</td>\n",
       "      <td>1</td>\n",
       "      <td>1</td>\n",
       "      <td>-0.173</td>\n",
       "      <td>-7.080460</td>\n",
       "    </tr>\n",
       "    <tr>\n",
       "      <th>1</th>\n",
       "      <td>2013-01-01</td>\n",
       "      <td>1</td>\n",
       "      <td>0</td>\n",
       "      <td>2363.265</td>\n",
       "      <td>2013</td>\n",
       "      <td>1</td>\n",
       "      <td>1</td>\n",
       "      <td>1</td>\n",
       "      <td>-0.173</td>\n",
       "      <td>-7.491954</td>\n",
       "    </tr>\n",
       "    <tr>\n",
       "      <th>2</th>\n",
       "      <td>2013-01-01</td>\n",
       "      <td>2</td>\n",
       "      <td>0</td>\n",
       "      <td>2258.505</td>\n",
       "      <td>2013</td>\n",
       "      <td>1</td>\n",
       "      <td>1</td>\n",
       "      <td>1</td>\n",
       "      <td>-0.173</td>\n",
       "      <td>-7.732184</td>\n",
       "    </tr>\n",
       "    <tr>\n",
       "      <th>3</th>\n",
       "      <td>2013-01-01</td>\n",
       "      <td>3</td>\n",
       "      <td>0</td>\n",
       "      <td>2243.969</td>\n",
       "      <td>2013</td>\n",
       "      <td>1</td>\n",
       "      <td>1</td>\n",
       "      <td>1</td>\n",
       "      <td>-0.173</td>\n",
       "      <td>-7.840230</td>\n",
       "    </tr>\n",
       "    <tr>\n",
       "      <th>4</th>\n",
       "      <td>2013-01-01</td>\n",
       "      <td>4</td>\n",
       "      <td>0</td>\n",
       "      <td>2344.105</td>\n",
       "      <td>2013</td>\n",
       "      <td>1</td>\n",
       "      <td>1</td>\n",
       "      <td>1</td>\n",
       "      <td>-0.173</td>\n",
       "      <td>-8.059770</td>\n",
       "    </tr>\n",
       "  </tbody>\n",
       "</table>\n",
       "</div>"
      ],
      "text/plain": [
       "          연월일  시간  구분       공급량  year  month  day  weekday    추정치      temp\n",
       "0  2013-01-01   0   0  2497.129  2013      1    1        1 -0.173 -7.080460\n",
       "1  2013-01-01   1   0  2363.265  2013      1    1        1 -0.173 -7.491954\n",
       "2  2013-01-01   2   0  2258.505  2013      1    1        1 -0.173 -7.732184\n",
       "3  2013-01-01   3   0  2243.969  2013      1    1        1 -0.173 -7.840230\n",
       "4  2013-01-01   4   0  2344.105  2013      1    1        1 -0.173 -8.059770"
      ]
     },
     "execution_count": 14,
     "metadata": {},
     "output_type": "execute_result"
    }
   ],
   "source": [
    "data.head()"
   ]
  },
  {
   "cell_type": "code",
   "execution_count": 6,
   "id": "26871788-d79c-4ff6-a901-225fcbff2b7c",
   "metadata": {},
   "outputs": [
    {
     "data": {
      "text/plain": [
       "array([0, 1, 2, 3, 4, 5, 6], dtype=int64)"
      ]
     },
     "execution_count": 6,
     "metadata": {},
     "output_type": "execute_result"
    }
   ],
   "source": [
    "data['구분'].unique()"
   ]
  },
  {
   "cell_type": "code",
   "execution_count": 18,
   "id": "80c6575c-19f6-4f57-bb41-59158c883312",
   "metadata": {},
   "outputs": [],
   "source": [
    "data_0 = data[data['구분'] == 0].reset_index(drop=True)\n",
    "data_1 = data[data['구분'] == 1].reset_index(drop=True)\n",
    "data_2 = data[data['구분'] == 2].reset_index(drop=True)\n",
    "data_3 = data[data['구분'] == 3].reset_index(drop=True)\n",
    "data_4 = data[data['구분'] == 4].reset_index(drop=True)\n",
    "data_5 = data[data['구분'] == 5].reset_index(drop=True)\n",
    "data_6 = data[data['구분'] == 6].reset_index(drop=True)"
   ]
  },
  {
   "cell_type": "code",
   "execution_count": 17,
   "id": "86304d4d-27dd-4146-99a4-0d0227b01cc5",
   "metadata": {
    "collapsed": true,
    "jupyter": {
     "outputs_hidden": true
    },
    "tags": []
   },
   "outputs": [
    {
     "name": "stdout",
     "output_type": "stream",
     "text": [
      "ADF Statistic: -5.120396\n",
      "p-value: 0.000013\n",
      "data_0 is a stationary process.\n",
      "==================================================\n",
      "ADF Statistic: -4.570727\n",
      "p-value: 0.000146\n",
      "data_1 is a stationary process.\n",
      "==================================================\n",
      "ADF Statistic: -5.173029\n",
      "p-value: 0.000010\n",
      "data_2 is a stationary process.\n",
      "==================================================\n",
      "ADF Statistic: -4.296061\n",
      "p-value: 0.000451\n",
      "data_3 is a stationary process.\n",
      "==================================================\n",
      "ADF Statistic: -4.334661\n",
      "p-value: 0.000387\n",
      "data_4 is a stationary process.\n",
      "==================================================\n",
      "ADF Statistic: -6.130280\n",
      "p-value: 0.000000\n",
      "data_5 is a stationary process.\n",
      "==================================================\n",
      "ADF Statistic: -4.598341\n",
      "p-value: 0.000130\n",
      "data_6 is a stationary process.\n",
      "==================================================\n"
     ]
    }
   ],
   "source": [
    "P_VALUE = 0.05\n",
    "\n",
    "for i in range(data['구분'].unique().shape[0]):\n",
    "    data_i = data[data['구분'] == i]\n",
    "    result = adfuller(data_i['공급량'])\n",
    "    \n",
    "    print('ADF Statistic: %f' % result[0])\n",
    "    print('p-value: %f' % result[1])\n",
    "    \n",
    "    if result[1] < P_VALUE:\n",
    "        print('data_{} is a stationary process.'.format(i))\n",
    "    else:\n",
    "        print('data_{} is a non-stationary process.'.format(i))\n",
    "        \n",
    "    print('='*50)"
   ]
  },
  {
   "cell_type": "code",
   "execution_count": 26,
   "id": "a275c731-d935-435b-8833-e5ce1eeabba8",
   "metadata": {
    "tags": []
   },
   "outputs": [
    {
     "data": {
      "image/png": "[encoded data removed]",
      "text/plain": [
       "<Figure size 1440x576 with 2 Axes>"
      ]
     },
     "metadata": {
      "needs_background": "light"
     },
     "output_type": "display_data"
    }
   ],
   "source": [
    "fig = plt.figure(figsize=(20, 8))\n",
    "ax1 = fig.add_subplot(211)\n",
    "fig = sm.graphics.tsa.plot_acf((data_0['공급량'] - data_0['공급량'].shift(2))[2:], lags=20, ax=ax1)\n",
    "ax2 = fig.add_subplot(212)\n",
    "fig = sm.graphics.tsa.plot_pacf((data_0['공급량'] - data_0['공급량'].shift(2))[2:], lags=20, ax=ax2)"
   ]
  },
  {
   "cell_type": "code",
   "execution_count": null,
   "id": "a9e40633-831a-487a-9034-d32f707b19c7",
   "metadata": {},
   "outputs": [],
   "source": []
  },
  {
   "cell_type": "code",
   "execution_count": null,
   "id": "d50ba713-3453-4f37-9ccb-193fb34255f9",
   "metadata": {},
   "outputs": [],
   "source": []
  },
  {
   "cell_type": "markdown",
   "id": "56b1ff90-e487-4639-b8b6-866372e2fe4c",
   "metadata": {},
   "source": [
    "# 1. Univariate Time Series Regression"
   ]
  },
  {
   "cell_type": "code",
   "execution_count": null,
   "id": "c4498295-b899-40de-a531-e2ff67156fa9",
   "metadata": {},
   "outputs": [],
   "source": []
  },
  {
   "cell_type": "code",
   "execution_count": null,
   "id": "a8231763-f611-4ea1-8dea-f49a1b1971cd",
   "metadata": {},
   "outputs": [],
   "source": []
  },
  {
   "cell_type": "code",
   "execution_count": null,
   "id": "f7794100-f905-4fc3-9727-1ed77eeb6596",
   "metadata": {},
   "outputs": [],
   "source": []
  },
  {
   "cell_type": "markdown",
   "id": "f8410fac-7f8c-44a5-833a-ccebe95298c5",
   "metadata": {},
   "source": [
    "# 2. Multivariate Time Series Regression"
   ]
  },
  {
   "cell_type": "markdown",
   "id": "c261285a-e69c-4e0c-9920-bd21576bb22c",
   "metadata": {},
   "source": [
    "## 2-1. ARIMAX"
   ]
  },
  {
   "cell_type": "code",
   "execution_count": null,
   "id": "bef78b80-8914-4f46-b8d1-57393ba84ce3",
   "metadata": {},
   "outputs": [],
   "source": []
  },
  {
   "cell_type": "code",
   "execution_count": null,
   "id": "06715b9d-fbdd-4277-bd70-5bf5dae6f521",
   "metadata": {},
   "outputs": [],
   "source": []
  },
  {
   "cell_type": "code",
   "execution_count": null,
   "id": "93e14947-819f-4a8d-89be-a381ef2b1161",
   "metadata": {},
   "outputs": [],
   "source": []
  },
  {
   "cell_type": "code",
   "execution_count": null,
   "id": "f025a6c7-4d94-4742-8956-fdd72e8b020d",
   "metadata": {},
   "outputs": [],
   "source": []
  },
  {
   "cell_type": "markdown",
   "id": "62bf3242-ede6-4115-9023-604321243794",
   "metadata": {},
   "source": [
    "## 2-2. SARIMAX"
   ]
  },
  {
   "cell_type": "code",
   "execution_count": null,
   "id": "677440c4-0c24-4d3b-b2ae-c47d8771170a",
   "metadata": {},
   "outputs": [],
   "source": []
  },
  {
   "cell_type": "code",
   "execution_count": null,
   "id": "f1a85634-29b7-40c8-853d-d3c2853470a6",
   "metadata": {},
   "outputs": [],
   "source": []
  },
  {
   "cell_type": "code",
   "execution_count": null,
   "id": "81a2aa48-d137-49b4-b08e-8971dbb39468",
   "metadata": {},
   "outputs": [],
   "source": []
  },
  {
   "cell_type": "code",
   "execution_count": null,
   "id": "62d62ccf-62f0-4f04-bb1a-0ffbb991b25a",
   "metadata": {},
   "outputs": [],
   "source": []
  },
  {
   "cell_type": "markdown",
   "id": "a61bc886-cb7f-4e3c-a1e3-25bb392db325",
   "metadata": {},
   "source": [
    "# 1. SARIMAX"
   ]
  },
  {
   "cell_type": "code",
   "execution_count": 11,
   "id": "d04c5cdd-252a-42b3-a3ff-acf855749cbb",
   "metadata": {},
   "outputs": [],
   "source": [
    "# generate (seasonal) pdq combination\n",
    "p = d = q = range(0, 3)\n",
    "pdq = list(itertools.product(p, d, q))\n",
    "seasonal_pdq = [(x[0], x[1], x[2], 12) for x in list(itertools.product(p, d, q))]"
   ]
  },
  {
   "cell_type": "code",
   "execution_count": null,
   "id": "52d551ce-d7dc-4716-88b3-2715ccf7906e",
   "metadata": {},
   "outputs": [],
   "source": [
    "for param in pdq:\n",
    "    for param_seasonal in seasonal_pdq:\n",
    "        model = SARIMAX(endog=, exog=, order=param, seasonal_order=param_seasonal,\n",
    "                       enforce_stationaryity=True, enforce_invertivility=True)"
   ]
  },
  {
   "cell_type": "code",
   "execution_count": 63,
   "id": "8a80a80c-add8-4502-9106-efd103093996",
   "metadata": {},
   "outputs": [
    {
     "data": {
      "text/plain": [
       "0       2013-01-01 00:00:00\n",
       "1       2013-01-01 01:00:00\n",
       "2       2013-01-01 02:00:00\n",
       "3       2013-01-01 03:00:00\n",
       "4       2013-01-01 04:00:00\n",
       "                ...        \n",
       "52556   2018-12-30 20:00:00\n",
       "52557   2018-12-30 21:00:00\n",
       "52558   2018-12-30 22:00:00\n",
       "52559   2018-12-30 23:00:00\n",
       "52560   2018-12-31 00:00:00\n",
       "Length: 52561, dtype: datetime64[ns]"
      ]
     },
     "execution_count": 63,
     "metadata": {},
     "output_type": "execute_result"
    }
   ],
   "source": [
    "pd.Series(pd.date_range('2013-01-01', end='2018-12-31', freq='H'))"
   ]
  },
  {
   "cell_type": "code",
   "execution_count": 62,
   "id": "5a3417f6-a8bf-4870-b894-99efb6ce92e9",
   "metadata": {},
   "outputs": [
    {
     "data": {
      "text/html": [
       "<div>\n",
       "<style scoped>\n",
       "    .dataframe tbody tr th:only-of-type {\n",
       "        vertical-align: middle;\n",
       "    }\n",
       "\n",
       "    .dataframe tbody tr th {\n",
       "        vertical-align: top;\n",
       "    }\n",
       "\n",
       "    .dataframe thead th {\n",
       "        text-align: right;\n",
       "    }\n",
       "</style>\n",
       "<table border=\"1\" class=\"dataframe\">\n",
       "  <thead>\n",
       "    <tr style=\"text-align: right;\">\n",
       "      <th></th>\n",
       "      <th>연월일</th>\n",
       "      <th>시간</th>\n",
       "      <th>구분</th>\n",
       "      <th>공급량</th>\n",
       "      <th>year</th>\n",
       "      <th>month</th>\n",
       "      <th>day</th>\n",
       "      <th>weekday</th>\n",
       "      <th>추정치</th>\n",
       "      <th>temp</th>\n",
       "    </tr>\n",
       "  </thead>\n",
       "  <tbody>\n",
       "    <tr>\n",
       "      <th>0</th>\n",
       "      <td>2013-01-01</td>\n",
       "      <td>0</td>\n",
       "      <td>0</td>\n",
       "      <td>2497.129</td>\n",
       "      <td>2013</td>\n",
       "      <td>1</td>\n",
       "      <td>1</td>\n",
       "      <td>1</td>\n",
       "      <td>-0.173</td>\n",
       "      <td>-7.080460</td>\n",
       "    </tr>\n",
       "    <tr>\n",
       "      <th>1</th>\n",
       "      <td>2013-01-01</td>\n",
       "      <td>1</td>\n",
       "      <td>0</td>\n",
       "      <td>2363.265</td>\n",
       "      <td>2013</td>\n",
       "      <td>1</td>\n",
       "      <td>1</td>\n",
       "      <td>1</td>\n",
       "      <td>-0.173</td>\n",
       "      <td>-7.491954</td>\n",
       "    </tr>\n",
       "    <tr>\n",
       "      <th>2</th>\n",
       "      <td>2013-01-01</td>\n",
       "      <td>2</td>\n",
       "      <td>0</td>\n",
       "      <td>2258.505</td>\n",
       "      <td>2013</td>\n",
       "      <td>1</td>\n",
       "      <td>1</td>\n",
       "      <td>1</td>\n",
       "      <td>-0.173</td>\n",
       "      <td>-7.732184</td>\n",
       "    </tr>\n",
       "    <tr>\n",
       "      <th>3</th>\n",
       "      <td>2013-01-01</td>\n",
       "      <td>3</td>\n",
       "      <td>0</td>\n",
       "      <td>2243.969</td>\n",
       "      <td>2013</td>\n",
       "      <td>1</td>\n",
       "      <td>1</td>\n",
       "      <td>1</td>\n",
       "      <td>-0.173</td>\n",
       "      <td>-7.840230</td>\n",
       "    </tr>\n",
       "    <tr>\n",
       "      <th>4</th>\n",
       "      <td>2013-01-01</td>\n",
       "      <td>4</td>\n",
       "      <td>0</td>\n",
       "      <td>2344.105</td>\n",
       "      <td>2013</td>\n",
       "      <td>1</td>\n",
       "      <td>1</td>\n",
       "      <td>1</td>\n",
       "      <td>-0.173</td>\n",
       "      <td>-8.059770</td>\n",
       "    </tr>\n",
       "    <tr>\n",
       "      <th>...</th>\n",
       "      <td>...</td>\n",
       "      <td>...</td>\n",
       "      <td>...</td>\n",
       "      <td>...</td>\n",
       "      <td>...</td>\n",
       "      <td>...</td>\n",
       "      <td>...</td>\n",
       "      <td>...</td>\n",
       "      <td>...</td>\n",
       "      <td>...</td>\n",
       "    </tr>\n",
       "    <tr>\n",
       "      <th>52579</th>\n",
       "      <td>2018-12-31</td>\n",
       "      <td>19</td>\n",
       "      <td>0</td>\n",
       "      <td>3040.868</td>\n",
       "      <td>2018</td>\n",
       "      <td>12</td>\n",
       "      <td>31</td>\n",
       "      <td>0</td>\n",
       "      <td>1.000</td>\n",
       "      <td>-1.017778</td>\n",
       "    </tr>\n",
       "    <tr>\n",
       "      <th>52580</th>\n",
       "      <td>2018-12-31</td>\n",
       "      <td>20</td>\n",
       "      <td>0</td>\n",
       "      <td>2973.577</td>\n",
       "      <td>2018</td>\n",
       "      <td>12</td>\n",
       "      <td>31</td>\n",
       "      <td>0</td>\n",
       "      <td>1.000</td>\n",
       "      <td>-1.786667</td>\n",
       "    </tr>\n",
       "    <tr>\n",
       "      <th>52581</th>\n",
       "      <td>2018-12-31</td>\n",
       "      <td>21</td>\n",
       "      <td>0</td>\n",
       "      <td>2840.272</td>\n",
       "      <td>2018</td>\n",
       "      <td>12</td>\n",
       "      <td>31</td>\n",
       "      <td>0</td>\n",
       "      <td>1.000</td>\n",
       "      <td>-2.468889</td>\n",
       "    </tr>\n",
       "    <tr>\n",
       "      <th>52582</th>\n",
       "      <td>2018-12-31</td>\n",
       "      <td>22</td>\n",
       "      <td>0</td>\n",
       "      <td>2692.385</td>\n",
       "      <td>2018</td>\n",
       "      <td>12</td>\n",
       "      <td>31</td>\n",
       "      <td>0</td>\n",
       "      <td>1.000</td>\n",
       "      <td>-3.095556</td>\n",
       "    </tr>\n",
       "    <tr>\n",
       "      <th>52583</th>\n",
       "      <td>2018-12-31</td>\n",
       "      <td>23</td>\n",
       "      <td>0</td>\n",
       "      <td>2583.340</td>\n",
       "      <td>2018</td>\n",
       "      <td>12</td>\n",
       "      <td>31</td>\n",
       "      <td>0</td>\n",
       "      <td>1.000</td>\n",
       "      <td>-3.665556</td>\n",
       "    </tr>\n",
       "  </tbody>\n",
       "</table>\n",
       "<p>52584 rows × 10 columns</p>\n",
       "</div>"
      ],
      "text/plain": [
       "              연월일  시간  구분       공급량  year  month  day  weekday    추정치  \\\n",
       "0      2013-01-01   0   0  2497.129  2013      1    1        1 -0.173   \n",
       "1      2013-01-01   1   0  2363.265  2013      1    1        1 -0.173   \n",
       "2      2013-01-01   2   0  2258.505  2013      1    1        1 -0.173   \n",
       "3      2013-01-01   3   0  2243.969  2013      1    1        1 -0.173   \n",
       "4      2013-01-01   4   0  2344.105  2013      1    1        1 -0.173   \n",
       "...           ...  ..  ..       ...   ...    ...  ...      ...    ...   \n",
       "52579  2018-12-31  19   0  3040.868  2018     12   31        0  1.000   \n",
       "52580  2018-12-31  20   0  2973.577  2018     12   31        0  1.000   \n",
       "52581  2018-12-31  21   0  2840.272  2018     12   31        0  1.000   \n",
       "52582  2018-12-31  22   0  2692.385  2018     12   31        0  1.000   \n",
       "52583  2018-12-31  23   0  2583.340  2018     12   31        0  1.000   \n",
       "\n",
       "           temp  \n",
       "0     -7.080460  \n",
       "1     -7.491954  \n",
       "2     -7.732184  \n",
       "3     -7.840230  \n",
       "4     -8.059770  \n",
       "...         ...  \n",
       "52579 -1.017778  \n",
       "52580 -1.786667  \n",
       "52581 -2.468889  \n",
       "52582 -3.095556  \n",
       "52583 -3.665556  \n",
       "\n",
       "[52584 rows x 10 columns]"
      ]
     },
     "execution_count": 62,
     "metadata": {},
     "output_type": "execute_result"
    }
   ],
   "source": [
    "data_0"
   ]
  },
  {
   "cell_type": "markdown",
   "id": "cad03c8d-ccb3-437c-9c65-bc129213b3d3",
   "metadata": {},
   "source": [
    "# 2. Trigonometric Model"
   ]
  },
  {
   "cell_type": "markdown",
   "id": "99edd27e-34ab-426b-a6d7-4943f9634124",
   "metadata": {},
   "source": [
    "## Model: $y_t = \\beta_0 + \\beta_1t + \\beta_2\\sin(\\frac{2\\pi t}{L}) + \\beta_3\\cos(\\frac{2\\pi t}{L}) + \\epsilon_t$"
   ]
  },
  {
   "cell_type": "code",
   "execution_count": 44,
   "id": "203ad81e-337b-41a5-bedc-40a110085ac1",
   "metadata": {},
   "outputs": [],
   "source": [
    "idx = data[data['연월일'] == '2018-01-01'].index[0]"
   ]
  },
  {
   "cell_type": "code",
   "execution_count": 45,
   "id": "d2969c85-73c7-49a6-ae27-785cc1a99887",
   "metadata": {},
   "outputs": [],
   "source": [
    "L = 24 * 365 # 24hours * 365days\n",
    "\n",
    "trig_data = pd.DataFrame()\n",
    "trig_data['x1'] = range(data.shape[0])\n",
    "trig_data['x2'] = trig_data['x1'].apply(lambda x: np.sin((2 * np.pi * x) / L))\n",
    "trig_data['x3'] = trig_data['x1'].apply(lambda x: np.cos((2 * np.pi * x) / L))\n",
    "trig_data['target'] = data['공급량']"
   ]
  },
  {
   "cell_type": "code",
   "execution_count": 46,
   "id": "13470086-55fe-4b7f-8ce3-cb8846b3ad0c",
   "metadata": {},
   "outputs": [
    {
     "data": {
      "text/plain": [
       "LinearRegression()"
      ]
     },
     "execution_count": 46,
     "metadata": {},
     "output_type": "execute_result"
    }
   ],
   "source": [
    "lr = LinearRegression()\n",
    "lr.fit(X=trig_data.loc[:idx, ['x1', 'x2', 'x3']], y=trig_data.loc[:idx, 'target'])"
   ]
  },
  {
   "cell_type": "code",
   "execution_count": 47,
   "id": "3c35b3ef-fabf-44a0-b122-b518714b4770",
   "metadata": {},
   "outputs": [],
   "source": [
    "pred_y = lr.predict(X=trig_data.loc[idx:, ['x1', 'x2', 'x3']])"
   ]
  },
  {
   "cell_type": "code",
   "execution_count": 55,
   "id": "17be3ea0-7624-4917-81db-1c1da226cfb1",
   "metadata": {},
   "outputs": [
    {
     "data": {
      "text/plain": [
       "2.903017950873462"
      ]
     },
     "execution_count": 55,
     "metadata": {},
     "output_type": "execute_result"
    }
   ],
   "source": [
    "score = np.mean((np.abs(trig_data.loc[idx:, 'target'] - pred_y)) / trig_data.loc[idx:, 'target'])\n",
    "score"
   ]
  },
  {
   "cell_type": "code",
   "execution_count": null,
   "id": "28396d68-ae2d-454b-8f33-88aa4cf1efa2",
   "metadata": {},
   "outputs": [],
   "source": []
  }
 ],
 "metadata": {
  "kernelspec": {
   "display_name": "Python 3",
   "language": "python",
   "name": "python3"
  },
  "language_info": {
   "codemirror_mode": {
    "name": "ipython",
    "version": 3
   },
   "file_extension": ".py",
   "mimetype": "text/x-python",
   "name": "python",
   "nbconvert_exporter": "python",
   "pygments_lexer": "ipython3",
   "version": "3.9.4"
  }
 },
 "nbformat": 4,
 "nbformat_minor": 5
}
