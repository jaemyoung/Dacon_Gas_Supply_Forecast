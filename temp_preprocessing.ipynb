{
 "cells": [
  {
   "cell_type": "code",
   "execution_count": 1,
   "id": "014837e1-0892-44e4-b3b5-311996ce627a",
   "metadata": {},
   "outputs": [],
   "source": [
    "import pandas as pd"
   ]
  },
  {
   "cell_type": "code",
   "execution_count": 2,
   "id": "bfc178e7-67d4-42d1-b8a0-8608d0a551c1",
   "metadata": {},
   "outputs": [],
   "source": [
    "temp_2013 = pd.read_csv('data/temp_2013.csv', encoding='cp949')\n",
    "temp_2014 = pd.read_csv('data/temp_2014.csv', encoding='cp949')\n",
    "temp_2015 = pd.read_csv('data/temp_2015.csv', encoding='cp949')\n",
    "temp_2016 = pd.read_csv('data/temp_2016.csv', encoding='cp949')\n",
    "temp_2017 = pd.read_csv('data/temp_2017.csv', encoding='cp949')\n",
    "temp_2018 = pd.read_csv('data/temp_2018.csv', encoding='cp949')"
   ]
  },
  {
   "cell_type": "code",
   "execution_count": 3,
   "id": "ad53b592-b873-4e44-8a79-2e676d659c36",
   "metadata": {},
   "outputs": [],
   "source": [
    "names = ['loc', 'location', 'time', 'temp']\n",
    "\n",
    "temp_2013.columns = names\n",
    "temp_2014.columns = names\n",
    "temp_2015.columns = names\n",
    "temp_2016.columns = names\n",
    "temp_2017.columns = names\n",
    "temp_2018.columns = names\n",
    "\n",
    "temp_2013 = temp_2013.loc[:, ['time', 'temp']]\n",
    "temp_2014 = temp_2014.loc[:, ['time', 'temp']]\n",
    "temp_2015 = temp_2015.loc[:, ['time', 'temp']]\n",
    "temp_2016 = temp_2016.loc[:, ['time', 'temp']]\n",
    "temp_2017 = temp_2017.loc[:, ['time', 'temp']]\n",
    "temp_2018 = temp_2018.loc[:, ['time', 'temp']]"
   ]
  },
  {
   "cell_type": "code",
   "execution_count": 4,
   "id": "0a1858db-3dd9-402a-a435-b62cc703fbcc",
   "metadata": {},
   "outputs": [],
   "source": [
    "temp = pd.concat(objs=[temp_2013.groupby(by='time').mean(), temp_2014.groupby(by='time').mean(), temp_2015.groupby(by='time').mean(), \\\n",
    "                      temp_2016.groupby(by='time').mean(), temp_2017.groupby(by='time').mean(), temp_2018.groupby(by='time').mean()], axis=0)"
   ]
  },
  {
   "cell_type": "code",
   "execution_count": 5,
   "id": "c81a5e49-93e0-46e0-9947-5f44d4524436",
   "metadata": {},
   "outputs": [],
   "source": [
    "temp.to_csv('data/avg_temp.csv')"
   ]
  },
  {
   "cell_type": "code",
   "execution_count": null,
   "id": "8e66cc50-4616-476a-944b-c95d6f9db458",
   "metadata": {},
   "outputs": [],
   "source": []
  }
 ],
 "metadata": {
  "kernelspec": {
   "display_name": "Python 3",
   "language": "python",
   "name": "python3"
  },
  "language_info": {
   "codemirror_mode": {
    "name": "ipython",
    "version": 3
   },
   "file_extension": ".py",
   "mimetype": "text/x-python",
   "name": "python",
   "nbconvert_exporter": "python",
   "pygments_lexer": "ipython3",
   "version": "3.9.4"
  }
 },
 "nbformat": 4,
 "nbformat_minor": 5
}
